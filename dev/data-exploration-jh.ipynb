{
 "cells": [
  {
   "cell_type": "code",
   "execution_count": 12,
   "metadata": {},
   "outputs": [],
   "source": [
    "# try everything here\n",
    "import sys\n",
    "sys.path.append('../')\n",
    "\n",
    "# other\n",
    "import pandas as pd\n",
    "import numpy as np\n",
    "\n",
    "# utils\n",
    "from src.data.make_dataset import load_data#, merge_all_datasets\n",
    "\n"
   ]
  },
  {
   "cell_type": "code",
   "execution_count": 13,
   "metadata": {},
   "outputs": [],
   "source": [
    "from src.data.make_dataset import *"
   ]
  },
  {
   "cell_type": "code",
   "execution_count": 15,
   "metadata": {},
   "outputs": [
    {
     "ename": "NameError",
     "evalue": "name 'merge_all_datasets' is not defined",
     "output_type": "error",
     "traceback": [
      "\u001b[0;31m---------------------------------------------------------------------------\u001b[0m",
      "\u001b[0;31mNameError\u001b[0m                                 Traceback (most recent call last)",
      "Cell \u001b[0;32mIn[15], line 1\u001b[0m\n\u001b[0;32m----> 1\u001b[0m \u001b[43mmerge_all_datasets\u001b[49m()\n",
      "\u001b[0;31mNameError\u001b[0m: name 'merge_all_datasets' is not defined"
     ]
    }
   ],
   "source": [
    "merge_all_datasets()"
   ]
  },
  {
   "cell_type": "code",
   "execution_count": 3,
   "metadata": {},
   "outputs": [],
   "source": [
    "# Loading Data\n",
    "data_dict = load_data()\n",
    "\n",
    "olist_customers_df = data_dict['olist_customers_df']\n",
    "olist_geolocation_df = data_dict['olist_geolocation_df']\n",
    "olist_order_items_df = data_dict['olist_order_items_df']\n",
    "olist_order_payments_df = data_dict['olist_order_payments_df']\n",
    "olist_order_reviews_df = data_dict['olist_order_reviews_df']\n",
    "olist_orders_df = data_dict['olist_orders_df']\n",
    "olist_products_df = data_dict['olist_products_df']\n",
    "olist_sellers_df = data_dict['olist_sellers_df']\n",
    "product_category_name_translation_df = data_dict['product_category_name_translation_df']\n",
    "\n",
    "olist_closed_deals_df = data_dict['olist_closed_deals_df']\n",
    "olist_marketing_qualified_leads_df = data_dict['olist_marketing_qualified_leads_df']"
   ]
  },
  {
   "cell_type": "code",
   "execution_count": 4,
   "metadata": {},
   "outputs": [],
   "source": [
    "# Merging into one\n",
    "\n",
    "def merge_all_datasets(olist_customers_df: pd.DataFrame, \n",
    "                       olist_geolocation_df: pd.DataFrame,\n",
    "                       olist_order_items_df: pd.DataFrame,\n",
    "                       olist_order_payments_df: pd.DataFrame,\n",
    "                       olist_order_reviews_df: pd.DataFrame, \n",
    "                       olist_orders_df: pd.DataFrame,\n",
    "                       olist_products_df: pd.DataFrame, \n",
    "                       olist_sellers_df: pd.DataFrame, \n",
    "                       olist_closed_deals_df: pd.DataFrame, \n",
    "                       olist_marketing_qualified_leads_df: pd.DataFrame) -> pd.DataFrame:\n",
    "\n",
    "    df = olist_orders_df.merge(olist_order_items_df, on='order_id', how='left')\n",
    "    df = df.merge(olist_order_payments_df, on='order_id', how='outer', validate='m:m')\n",
    "    df = df.merge(olist_order_reviews_df, on='order_id', how='outer')\n",
    "    df = df.merge(olist_products_df, on='product_id', how='outer')\n",
    "    df = df.merge(olist_customers_df, on='customer_id', how='outer')\n",
    "    df = df.merge(olist_sellers_df, on='seller_id', how='outer')\n",
    "    df = df.merge(olist_closed_deals_df, on='seller_id', how='left')\n",
    "    df = df.merge(olist_marketing_qualified_leads_df, on='mql_id', how='left')\n",
    "    return df"
   ]
  },
  {
   "cell_type": "markdown",
   "metadata": {},
   "source": [
    "### Questions to explore\n",
    "\n",
    "- Did a customer that purchased an item and received a delayed delivery purchase again?\n",
    "- Are delayed deliveries purchased less?\n",
    "- How do I connect a review of a random customer with new customers?\n",
    "- Research on how does causal inference work on a \"future\" timeline.\n",
    "- What are possible confounders?\n",
    "- What are possible confounders that don’t exist in our data?"
   ]
  },
  {
   "cell_type": "code",
   "execution_count": null,
   "metadata": {},
   "outputs": [],
   "source": [
    "df['order_delivered_customer_date'] = pd.to_datetime(df['order_delivered_customer_date'])\n",
    "df['order_estimated_delivery_date'] = pd.to_datetime(df['order_estimated_delivery_date'])\n",
    "\n",
    "df['late_delivery_in_days'] = (df['order_delivered_customer_date'] \\\n",
    "                                            - df['order_estimated_delivery_date']).dt.days\n",
    "\n",
    "# if late_delivery_in_days > 0, then delivery was late\n",
    "df['is_delivery_late'] = np.where(df['late_delivery_in_days'] > 0, 1, 0)"
   ]
  },
  {
   "cell_type": "code",
   "execution_count": 5,
   "metadata": {},
   "outputs": [
    {
     "data": {
      "text/plain": [
       "(119143, 55)"
      ]
     },
     "execution_count": 5,
     "metadata": {},
     "output_type": "execute_result"
    }
   ],
   "source": [
    "df.shape"
   ]
  },
  {
   "cell_type": "code",
   "execution_count": null,
   "metadata": {},
   "outputs": [],
   "source": []
  }
 ],
 "metadata": {
  "kernelspec": {
   "display_name": "venv",
   "language": "python",
   "name": "python3"
  },
  "language_info": {
   "codemirror_mode": {
    "name": "ipython",
    "version": 3
   },
   "file_extension": ".py",
   "mimetype": "text/x-python",
   "name": "python",
   "nbconvert_exporter": "python",
   "pygments_lexer": "ipython3",
   "version": "3.9.6"
  }
 },
 "nbformat": 4,
 "nbformat_minor": 2
}
