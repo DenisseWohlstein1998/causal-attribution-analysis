{
 "cells": [
  {
   "cell_type": "markdown",
   "metadata": {},
   "source": [
    "## Loading data"
   ]
  },
  {
   "cell_type": "code",
   "execution_count": 39,
   "metadata": {},
   "outputs": [],
   "source": [
    "import sys\n",
    "import networkx as nx # type: ignore\n",
    "import graphviz\n",
    "import pandas as pd\n",
    "import matplotlib.pyplot as plt\n",
    "import seaborn as sns\n",
    "from dowhy import CausalModel\n",
    "import pandas as pd\n",
    "from sklearn.impute import KNNImputer\n",
    "from sklearn.preprocessing import LabelEncoder\n",
    "sys.path.append('../')\n",
    "from src.data.make_dataset import load_data, merge_all_datasets\n",
    "from src.data.preprocess import handle_missing_values, rolling_mean_customer, rolling_mean_seller, haversine, preprocessing\n",
    "\n",
    "import warnings\n",
    "warnings.filterwarnings(\"ignore\")\n"
   ]
  },
  {
   "cell_type": "code",
   "execution_count": 40,
   "metadata": {},
   "outputs": [
    {
     "data": {
      "image/png": "[encoded data removed]",
      "text/latex": [
       "$\\displaystyle \\left( 119143, \\  19\\right)$"
      ],
      "text/plain": [
       "(119143, 19)"
      ]
     },
     "execution_count": 40,
     "metadata": {},
     "output_type": "execute_result"
    }
   ],
   "source": [
    "df = pd.read_csv(\"../data/processed/data.csv\")\n",
    "df.shape"
   ]
  },
  {
   "cell_type": "code",
   "execution_count": 41,
   "metadata": {},
   "outputs": [],
   "source": [
    "# # Impute missing values\n",
    "df.rename(columns={'Product_price': 'revenue'}, inplace=True) \n",
    "df['Product_price'] = df['revenue'] + df['freight_value']\n",
    "df['Product_weight_kg'] = df['Product_weight_kg'].fillna(df['Product_weight_kg'].mean())\n",
    "df['distance_km'] = df['distance_km'].fillna(df['distance_km'].mean())\n",
    "df['Product_size'] = df['Product_size'].fillna(df['Product_size'].mean())\n",
    "# df['customer_avg_score'] = df['customer_avg_score'].fillna(df['customer_avg_score'].mean())\n",
    "df['No_photos'] = df['No_photos'].fillna(df['No_photos'].mean())\n",
    "df['Product_price'] = df['Product_price'].fillna(df['Product_price'].mean())\n",
    "df['freight_value'] = df['freight_value'].fillna(df['freight_value'].mean())\n",
    "df['Rating'] = df['Rating'].fillna(df['Rating'].mean())\n",
    "df['Rating'] = df['Rating'].round()\n",
    "df['Product_category'] = df['Product_category'].fillna(df['Product_category'].mode()[0])\n",
    "df['revenue'] = df['revenue'].fillna(df['revenue'].mean())"
   ]
  },
  {
   "cell_type": "markdown",
   "metadata": {},
   "source": [
    "## EDA"
   ]
  },
  {
   "cell_type": "code",
   "execution_count": 13,
   "metadata": {},
   "outputs": [],
   "source": [
    "#Avantika and Anna's territory"
   ]
  }
 ],
 "metadata": {
  "kernelspec": {
   "display_name": "venv",
   "language": "python",
   "name": "python3"
  },
  "language_info": {
   "codemirror_mode": {
    "name": "ipython",
    "version": 3
   },
   "file_extension": ".py",
   "mimetype": "text/x-python",
   "name": "python",
   "nbconvert_exporter": "python",
   "pygments_lexer": "ipython3",
   "version": "3.12.4"
  }
 },
 "nbformat": 4,
 "nbformat_minor": 2
}
