{
 "cells": [
  {
   "cell_type": "markdown",
   "metadata": {},
   "source": [
    "## Loading data"
   ]
  },
  {
   "cell_type": "code",
   "execution_count": 8,
   "metadata": {},
   "outputs": [],
   "source": [
    "import sys\n",
    "import networkx as nx # type: ignore\n",
    "import graphviz\n",
    "import pandas as pd\n",
    "import matplotlib.pyplot as plt\n",
    "import seaborn as sns\n",
    "from dowhy import CausalModel\n",
    "import pandas as pd\n",
    "import numpy as np\n",
    "from sklearn.impute import KNNImputer\n",
    "from sklearn.preprocessing import LabelEncoder\n",
    "\n",
    "# sys.path.append(\"../\")\n",
    "# from src.data.make_dataset import load_data, merge_all_datasets\n",
    "# from src.data.preprocess import handle_missing_values, rolling_mean_customer, rolling_mean_seller, haversine, preprocessing\n",
    "\n",
    "import statsmodels.formula.api as smf\n",
    "\n",
    "import warnings\n",
    "warnings.filterwarnings(\"ignore\")\n",
    "pd.set_option('display.max_columns', None)\n"
   ]
  },
  {
   "cell_type": "code",
   "execution_count": null,
   "metadata": {},
   "outputs": [],
   "source": [
    "# data_dict = load_data()\n",
    "# olist_customers_df = data_dict['olist_customers_df']\n",
    "# olist_geolocation_df = data_dict['olist_geolocation_df']\n",
    "# olist_order_items_df = data_dict['olist_order_items_df']\n",
    "# olist_order_payments_df = data_dict['olist_order_payments_df']\n",
    "# olist_order_reviews_df = data_dict['olist_order_reviews_df']\n",
    "# olist_orders_df = data_dict['olist_orders_df']\n",
    "# olist_products_df = data_dict['olist_products_df']\n",
    "# olist_sellers_df = data_dict['olist_sellers_df']\n",
    "# product_category_name_translation_df = data_dict['product_category_name_translation_df']\n",
    "# olist_closed_deals_df = data_dict['olist_closed_deals_df']\n",
    "# olist_marketing_qualified_leads_df = data_dict['olist_marketing_qualified_leads_df']\n",
    "\n",
    "# df = merge_all_datasets(olist_customers_df, olist_geolocation_df, olist_order_items_df, olist_order_payments_df,\n",
    "#                             olist_order_reviews_df, olist_orders_df, olist_products_df, olist_sellers_df)"
   ]
  },
  {
   "cell_type": "code",
   "execution_count": 14,
   "metadata": {},
   "outputs": [],
   "source": [
    "df = pd.read_csv(\"../data/processed/data.csv\")"
   ]
  },
  {
   "cell_type": "code",
   "execution_count": 15,
   "metadata": {},
   "outputs": [
    {
     "data": {
      "text/plain": [
       "Rating                      948\n",
       "Product_category_encoded      0\n",
       "freight_value                 0\n",
       "distance_km                   0\n",
       "season                        0\n",
       "is_delivery_late              0\n",
       "dtype: int64"
      ]
     },
     "execution_count": 15,
     "metadata": {},
     "output_type": "execute_result"
    }
   ],
   "source": [
    "nodes_list = [\n",
    "'Rating',\n",
    "'Product_category_encoded',\n",
    "'freight_value',\n",
    "'distance_km',\n",
    "'season',\n",
    "'is_delivery_late'\n",
    "]\n",
    "\n",
    "df[nodes_list].isnull().sum()"
   ]
  },
  {
   "cell_type": "code",
   "execution_count": 11,
   "metadata": {},
   "outputs": [],
   "source": [
    "# Temporary fix for imputing rating\n",
    "# df['Rating'].fillna(df['Rating'].mean(), inplace=True)"
   ]
  },
  {
   "cell_type": "markdown",
   "metadata": {},
   "source": [
    "## EDA"
   ]
  },
  {
   "cell_type": "code",
   "execution_count": 13,
   "metadata": {},
   "outputs": [],
   "source": [
    "#Avantika and Anna's territory"
   ]
  },
  {
   "cell_type": "markdown",
   "metadata": {},
   "source": [
    "## Imputing is_delivery_late\n",
    "\n",
    "- The column late_delivery_in_days is calculated as the difference in days between the actual delivery date and the estimated delivery date\n",
    "\n",
    "- there're 1264 missing values in the late_delivery_in_days column and they are missing because the order was never delivered: order_delivered_customer_date has the missing values\n",
    "\n",
    "- This brings the question of should these be part of the control, treatent or should simply get dropped?\n",
    "\n",
    "    1. Definitely not part of the control (on time delivery) as the order was never delivered\n",
    "    \n",
    "    2. Not sure about the treatment group, were they late?"
   ]
  },
  {
   "cell_type": "markdown",
   "metadata": {},
   "source": []
  }
 ],
 "metadata": {
  "kernelspec": {
   "display_name": "venv",
   "language": "python",
   "name": "python3"
  },
  "language_info": {
   "codemirror_mode": {
    "name": "ipython",
    "version": 3
   },
   "file_extension": ".py",
   "mimetype": "text/x-python",
   "name": "python",
   "nbconvert_exporter": "python",
   "pygments_lexer": "ipython3",
   "version": "3.9.6"
  }
 },
 "nbformat": 4,
 "nbformat_minor": 2
}
