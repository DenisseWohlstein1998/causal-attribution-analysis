{
 "cells": [
  {
   "cell_type": "code",
   "execution_count": 12,
   "metadata": {},
   "outputs": [],
   "source": [
    "# try\n",
    "import sys\n",
    "\n",
    "import pandas as pd # type: ignore\n",
    "import numpy as np # type: ignore\n",
    "\n",
    "import matplotlib.pyplot as plt # type: ignore\n",
    "import seaborn as sns # type: ignore\n",
    "\n",
    "import networkx as nx # type: ignore\n",
    "import graphviz # type: ignore\n",
    "\n",
    "import statsmodels.formula.api as smf # type: ignore\n",
    "import statsmodels.api # type: ignore\n",
    "from statsmodels.miscmodels.ordinal_model import OrderedModel # type: ignore\n",
    "\n",
    "from dowhy import CausalModel, gcm # type: ignore\n",
    "\n",
    "from sklearn.linear_model import LogisticRegression # type: ignore\n",
    "from sklearn.neighbors import NearestNeighbors # type: ignore\n",
    "\n",
    "import warnings\n",
    "warnings.filterwarnings(\"ignore\")\n",
    "pd.set_option('display.max_columns', None)"
   ]
  },
  {
   "cell_type": "code",
   "execution_count": 13,
   "metadata": {},
   "outputs": [
    {
     "data": {
      "image/png": "[encoded data removed]",
      "text/latex": [
       "$\\displaystyle \\left( 116388, \\  22\\right)$"
      ],
      "text/plain": [
       "(116388, 22)"
      ]
     },
     "execution_count": 13,
     "metadata": {},
     "output_type": "execute_result"
    }
   ],
   "source": [
    "df = pd.read_csv(\"../data/processed/data.csv\")\n",
    "df.shape"
   ]
  },
  {
   "cell_type": "code",
   "execution_count": 10,
   "metadata": {},
   "outputs": [
    {
     "data": {
      "text/plain": [
       "Rating                      948\n",
       "Product_category_encoded      0\n",
       "freight_value                 0\n",
       "distance_km                   0\n",
       "season                        0\n",
       "is_delivery_late              0\n",
       "dtype: int64"
      ]
     },
     "execution_count": 10,
     "metadata": {},
     "output_type": "execute_result"
    }
   ],
   "source": [
    "nodes_list = [\n",
    "'Rating',\n",
    "'Product_category_encoded',\n",
    "'freight_value',\n",
    "'distance_km',\n",
    "'season',\n",
    "'is_delivery_late'\n",
    "]\n",
    "\n",
    "df[nodes_list].isnull().sum()"
   ]
  },
  {
   "cell_type": "code",
   "execution_count": null,
   "metadata": {},
   "outputs": [],
   "source": [
    "# Temporary fix for imputing rating\n",
    "# df['Rating'].fillna(df['Rating'].mean(), inplace=True)"
   ]
  },
  {
   "cell_type": "markdown",
   "metadata": {},
   "source": [
    "# Potential Outcomes"
   ]
  },
  {
   "cell_type": "code",
   "execution_count": 7,
   "metadata": {},
   "outputs": [],
   "source": [
    "# Matteo"
   ]
  }
 ],
 "metadata": {
  "kernelspec": {
   "display_name": "venv",
   "language": "python",
   "name": "python3"
  },
  "language_info": {
   "codemirror_mode": {
    "name": "ipython",
    "version": 3
   },
   "file_extension": ".py",
   "mimetype": "text/x-python",
   "name": "python",
   "nbconvert_exporter": "python",
   "pygments_lexer": "ipython3",
   "version": "3.9.6"
  }
 },
 "nbformat": 4,
 "nbformat_minor": 2
}
