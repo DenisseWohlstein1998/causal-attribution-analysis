{
 "cells": [
  {
   "cell_type": "code",
   "execution_count": 6,
   "metadata": {},
   "outputs": [],
   "source": [
    "# try\n",
    "import sys\n",
    "\n",
    "import pandas as pd # type: ignore\n",
    "import numpy as np # type: ignore\n",
    "\n",
    "import matplotlib.pyplot as plt # type: ignore\n",
    "import seaborn as sns # type: ignore\n",
    "\n",
    "import networkx as nx # type: ignore\n",
    "import graphviz # type: ignore\n",
    "\n",
    "import statsmodels.formula.api as smf # type: ignore\n",
    "import statsmodels.api # type: ignore\n",
    "from statsmodels.miscmodels.ordinal_model import OrderedModel # type: ignore\n",
    "\n",
    "from dowhy import CausalModel, gcm # type: ignore\n",
    "\n",
    "from sklearn.linear_model import LogisticRegression # type: ignore\n",
    "from sklearn.neighbors import NearestNeighbors # type: ignore"
   ]
  },
  {
   "cell_type": "code",
   "execution_count": 7,
   "metadata": {},
   "outputs": [],
   "source": [
    "# Clean data\n",
    "df = pd.read_csv(\"../data/processed/data.csv\")"
   ]
  },
  {
   "cell_type": "code",
   "execution_count": 8,
   "metadata": {},
   "outputs": [],
   "source": [
    "# ToDo: properly handle missing values\n",
    "df.rename(columns={'Product_price': 'revenue'}, inplace=True) \n",
    "df['Product_price'] = df['revenue'] + df['freight_value']\n",
    "df['Product_weight_kg'] = df['Product_weight_kg'].fillna(df['Product_weight_kg'].mean())\n",
    "df['distance_km'] = df['distance_km'].fillna(df['distance_km'].mean())\n",
    "df['Product_size'] = df['Product_size'].fillna(df['Product_size'].mean())\n",
    "# df['customer_avg_score'] = df['customer_avg_score'].fillna(df['customer_avg_score'].mean())\n",
    "df['No_photos'] = df['No_photos'].fillna(df['No_photos'].mean())\n",
    "df['Product_price'] = df['Product_price'].fillna(df['Product_price'].mean())\n",
    "df['freight_value'] = df['freight_value'].fillna(df['freight_value'].mean())\n",
    "df['Rating'] = df['Rating'].round()\n",
    "df['Product_category'] = df['Product_category'].fillna(df['Product_category'].mode()[0])\n",
    "df['revenue'] = df['revenue'].fillna(df['revenue'].mean())"
   ]
  },
  {
   "cell_type": "code",
   "execution_count": 10,
   "metadata": {},
   "outputs": [
    {
     "data": {
      "image/png": "[encoded data removed]",
      "text/latex": [
       "$\\displaystyle \\left( 119143, \\  16\\right)$"
      ],
      "text/plain": [
       "(119143, 16)"
      ]
     },
     "execution_count": 10,
     "metadata": {},
     "output_type": "execute_result"
    }
   ],
   "source": [
    "df.shape"
   ]
  },
  {
   "cell_type": "code",
   "execution_count": null,
   "metadata": {},
   "outputs": [],
   "source": []
  }
 ],
 "metadata": {
  "kernelspec": {
   "display_name": "venv",
   "language": "python",
   "name": "python3"
  },
  "language_info": {
   "codemirror_mode": {
    "name": "ipython",
    "version": 3
   },
   "file_extension": ".py",
   "mimetype": "text/x-python",
   "name": "python",
   "nbconvert_exporter": "python",
   "pygments_lexer": "ipython3",
   "version": "3.9.6"
  }
 },
 "nbformat": 4,
 "nbformat_minor": 2
}
